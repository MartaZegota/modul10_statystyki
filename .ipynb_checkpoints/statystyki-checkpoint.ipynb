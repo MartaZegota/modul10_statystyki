{
 "cells": [
  {
   "cell_type": "code",
   "execution_count": 186,
   "id": "4a55ca93",
   "metadata": {},
   "outputs": [],
   "source": [
    "import numpy as np\n",
    "from scipy.stats import bernoulli\n",
    "import pandas as pd\n",
    "import seaborn as sns\n",
    "import matplotlib.pyplot as plt\n",
    "import scipy.stats\n",
    "from scipy.stats import norm\n",
    "import scipy.stats as stats\n",
    "from sklearn.preprocessing import StandardScaler, MinMaxScaler"
   ]
  },
  {
   "cell_type": "markdown",
   "id": "3da77b4f",
   "metadata": {},
   "source": [
    "Wygenerowanie zbioru 100 losowo wybranych elementów oraz drugiego zbioru 10 000 losowo wybranych elementów - oba zbiory ze średnią 3, odchyleniem standardowym 1."
   ]
  },
  {
   "cell_type": "code",
   "execution_count": 217,
   "id": "53345eba",
   "metadata": {},
   "outputs": [
    {
     "data": {
      "text/html": [
       "<div>\n",
       "<style scoped>\n",
       "    .dataframe tbody tr th:only-of-type {\n",
       "        vertical-align: middle;\n",
       "    }\n",
       "\n",
       "    .dataframe tbody tr th {\n",
       "        vertical-align: top;\n",
       "    }\n",
       "\n",
       "    .dataframe thead th {\n",
       "        text-align: right;\n",
       "    }\n",
       "</style>\n",
       "<table border=\"1\" class=\"dataframe\">\n",
       "  <thead>\n",
       "    <tr style=\"text-align: right;\">\n",
       "      <th></th>\n",
       "      <th>value</th>\n",
       "    </tr>\n",
       "  </thead>\n",
       "  <tbody>\n",
       "    <tr>\n",
       "      <th>4</th>\n",
       "      <td>0.207272</td>\n",
       "    </tr>\n",
       "    <tr>\n",
       "      <th>42</th>\n",
       "      <td>0.359118</td>\n",
       "    </tr>\n",
       "    <tr>\n",
       "      <th>86</th>\n",
       "      <td>0.706181</td>\n",
       "    </tr>\n",
       "    <tr>\n",
       "      <th>81</th>\n",
       "      <td>0.905797</td>\n",
       "    </tr>\n",
       "    <tr>\n",
       "      <th>8</th>\n",
       "      <td>1.161388</td>\n",
       "    </tr>\n",
       "    <tr>\n",
       "      <th>...</th>\n",
       "      <td>...</td>\n",
       "    </tr>\n",
       "    <tr>\n",
       "      <th>84</th>\n",
       "      <td>4.867339</td>\n",
       "    </tr>\n",
       "    <tr>\n",
       "      <th>34</th>\n",
       "      <td>4.888763</td>\n",
       "    </tr>\n",
       "    <tr>\n",
       "      <th>45</th>\n",
       "      <td>5.080806</td>\n",
       "    </tr>\n",
       "    <tr>\n",
       "      <th>9</th>\n",
       "      <td>5.087371</td>\n",
       "    </tr>\n",
       "    <tr>\n",
       "      <th>50</th>\n",
       "      <td>5.142576</td>\n",
       "    </tr>\n",
       "  </tbody>\n",
       "</table>\n",
       "<p>100 rows × 1 columns</p>\n",
       "</div>"
      ],
      "text/plain": [
       "       value\n",
       "4   0.207272\n",
       "42  0.359118\n",
       "86  0.706181\n",
       "81  0.905797\n",
       "8   1.161388\n",
       "..       ...\n",
       "84  4.867339\n",
       "34  4.888763\n",
       "45  5.080806\n",
       "9   5.087371\n",
       "50  5.142576\n",
       "\n",
       "[100 rows x 1 columns]"
      ]
     },
     "execution_count": 217,
     "metadata": {},
     "output_type": "execute_result"
    }
   ],
   "source": [
    "normalVar = pd.DataFrame(np.random.normal(3,1,100))\n",
    "normalVar.columns = ['value']\n",
    "normalVar.sort_values(by='value')"
   ]
  },
  {
   "cell_type": "code",
   "execution_count": 218,
   "id": "2ab178c9",
   "metadata": {},
   "outputs": [
    {
     "data": {
      "text/html": [
       "<div>\n",
       "<style scoped>\n",
       "    .dataframe tbody tr th:only-of-type {\n",
       "        vertical-align: middle;\n",
       "    }\n",
       "\n",
       "    .dataframe tbody tr th {\n",
       "        vertical-align: top;\n",
       "    }\n",
       "\n",
       "    .dataframe thead th {\n",
       "        text-align: right;\n",
       "    }\n",
       "</style>\n",
       "<table border=\"1\" class=\"dataframe\">\n",
       "  <thead>\n",
       "    <tr style=\"text-align: right;\">\n",
       "      <th></th>\n",
       "      <th>value</th>\n",
       "    </tr>\n",
       "  </thead>\n",
       "  <tbody>\n",
       "    <tr>\n",
       "      <th>8622</th>\n",
       "      <td>-1.935860</td>\n",
       "    </tr>\n",
       "    <tr>\n",
       "      <th>316</th>\n",
       "      <td>-0.994729</td>\n",
       "    </tr>\n",
       "    <tr>\n",
       "      <th>4819</th>\n",
       "      <td>-0.426630</td>\n",
       "    </tr>\n",
       "    <tr>\n",
       "      <th>5206</th>\n",
       "      <td>-0.331423</td>\n",
       "    </tr>\n",
       "    <tr>\n",
       "      <th>2051</th>\n",
       "      <td>-0.289122</td>\n",
       "    </tr>\n",
       "    <tr>\n",
       "      <th>...</th>\n",
       "      <td>...</td>\n",
       "    </tr>\n",
       "    <tr>\n",
       "      <th>9273</th>\n",
       "      <td>6.323671</td>\n",
       "    </tr>\n",
       "    <tr>\n",
       "      <th>5112</th>\n",
       "      <td>6.367754</td>\n",
       "    </tr>\n",
       "    <tr>\n",
       "      <th>8228</th>\n",
       "      <td>6.380627</td>\n",
       "    </tr>\n",
       "    <tr>\n",
       "      <th>2192</th>\n",
       "      <td>6.690753</td>\n",
       "    </tr>\n",
       "    <tr>\n",
       "      <th>1266</th>\n",
       "      <td>6.948298</td>\n",
       "    </tr>\n",
       "  </tbody>\n",
       "</table>\n",
       "<p>10000 rows × 1 columns</p>\n",
       "</div>"
      ],
      "text/plain": [
       "         value\n",
       "8622 -1.935860\n",
       "316  -0.994729\n",
       "4819 -0.426630\n",
       "5206 -0.331423\n",
       "2051 -0.289122\n",
       "...        ...\n",
       "9273  6.323671\n",
       "5112  6.367754\n",
       "8228  6.380627\n",
       "2192  6.690753\n",
       "1266  6.948298\n",
       "\n",
       "[10000 rows x 1 columns]"
      ]
     },
     "execution_count": 218,
     "metadata": {},
     "output_type": "execute_result"
    }
   ],
   "source": [
    "normalVar2 = pd.DataFrame(np.random.normal(3,1,10000))\n",
    "normalVar2.columns = ['value']\n",
    "normalVar2.sort_values(by='value')"
   ]
  },
  {
   "cell_type": "code",
   "execution_count": 219,
   "id": "224d0c02",
   "metadata": {},
   "outputs": [
    {
     "name": "stderr",
     "output_type": "stream",
     "text": [
      "C:\\Users\\marta.zegota\\AppData\\Local\\Programs\\Python\\Python310\\lib\\site-packages\\seaborn\\distributions.py:2619: FutureWarning: `distplot` is a deprecated function and will be removed in a future version. Please adapt your code to use either `displot` (a figure-level function with similar flexibility) or `histplot` (an axes-level function for histograms).\n",
      "  warnings.warn(msg, FutureWarning)\n"
     ]
    },
    {
     "data": {
      "image/png": "[encoded data removed]",
      "text/plain": [
       "<Figure size 432x288 with 1 Axes>"
      ]
     },
     "metadata": {
      "needs_background": "light"
     },
     "output_type": "display_data"
    }
   ],
   "source": [
    "sns.distplot(normalVar)\n",
    "plt.show()"
   ]
  },
  {
   "cell_type": "code",
   "execution_count": 220,
   "id": "9e7e5c84",
   "metadata": {},
   "outputs": [
    {
     "name": "stderr",
     "output_type": "stream",
     "text": [
      "C:\\Users\\marta.zegota\\AppData\\Local\\Programs\\Python\\Python310\\lib\\site-packages\\seaborn\\distributions.py:2619: FutureWarning: `distplot` is a deprecated function and will be removed in a future version. Please adapt your code to use either `displot` (a figure-level function with similar flexibility) or `histplot` (an axes-level function for histograms).\n",
      "  warnings.warn(msg, FutureWarning)\n"
     ]
    },
    {
     "data": {
      "image/png": "[encoded data removed]",
      "text/plain": [
       "<Figure size 432x288 with 1 Axes>"
      ]
     },
     "metadata": {
      "needs_background": "light"
     },
     "output_type": "display_data"
    }
   ],
   "source": [
    "sns.distplot(normalVar2)\n",
    "plt.show()"
   ]
  },
  {
   "cell_type": "markdown",
   "id": "3e200179",
   "metadata": {},
   "source": [
    "# Średnia"
   ]
  },
  {
   "cell_type": "code",
   "execution_count": 221,
   "id": "b9986f73",
   "metadata": {},
   "outputs": [
    {
     "name": "stdout",
     "output_type": "stream",
     "text": [
      "value    3.0\n",
      "dtype: float64\n"
     ]
    },
    {
     "name": "stderr",
     "output_type": "stream",
     "text": [
      "C:\\Users\\marta.zegota\\AppData\\Local\\Programs\\Python\\Python310\\lib\\site-packages\\numpy\\core\\fromnumeric.py:3472: FutureWarning: In a future version, DataFrame.mean(axis=None) will return a scalar mean over the entire DataFrame. To retain the old behavior, use 'frame.mean(axis=0)' or just 'frame.mean()'\n",
      "  return mean(axis=axis, dtype=dtype, out=out, **kwargs)\n"
     ]
    }
   ],
   "source": [
    "mean_var = np.round(np.mean(normalVar))\n",
    "print(mean_var)"
   ]
  },
  {
   "cell_type": "code",
   "execution_count": 222,
   "id": "b477d5d1",
   "metadata": {},
   "outputs": [
    {
     "name": "stdout",
     "output_type": "stream",
     "text": [
      "value    3.0\n",
      "dtype: float64\n"
     ]
    }
   ],
   "source": [
    "mean_var2 = np.round(np.mean(normalVar2))\n",
    "print(mean_var2)"
   ]
  },
  {
   "cell_type": "markdown",
   "id": "aa1cc2c6",
   "metadata": {},
   "source": [
    "Wyliczona średnia dla obu zbiorów jest taka sama i równa przyjętej do ich wygenerowania. Średnia jest równa sumie wszystkich wartości w zbiorze danych podzielonej przez liczbę wartości w tym zbiorze."
   ]
  },
  {
   "cell_type": "markdown",
   "id": "68f8c8db",
   "metadata": {},
   "source": [
    "# Mediana"
   ]
  },
  {
   "cell_type": "code",
   "execution_count": 223,
   "id": "b29bc485",
   "metadata": {},
   "outputs": [
    {
     "name": "stdout",
     "output_type": "stream",
     "text": [
      "3.0109\n"
     ]
    }
   ],
   "source": [
    "median_var = np.round(np.median(normalVar),4)\n",
    "print(median_var)"
   ]
  },
  {
   "cell_type": "code",
   "execution_count": 224,
   "id": "c501e102",
   "metadata": {},
   "outputs": [
    {
     "name": "stdout",
     "output_type": "stream",
     "text": [
      "3.0068\n"
     ]
    }
   ],
   "source": [
    "median_var2 = np.round(np.median(normalVar2),4)\n",
    "print(median_var2)"
   ]
  },
  {
   "cell_type": "markdown",
   "id": "a01fae43",
   "metadata": {},
   "source": [
    "W rozkładzie normalnym o skośności bliskiej zeru mediana oscyluje wartością wokół średniej, tak też jest w przypadku dwóch analizowanych zbiorów losowo dobranych danych."
   ]
  },
  {
   "cell_type": "markdown",
   "id": "07b6ada7",
   "metadata": {},
   "source": [
    "# Moda"
   ]
  },
  {
   "cell_type": "code",
   "execution_count": 225,
   "id": "813c9ee1",
   "metadata": {},
   "outputs": [
    {
     "name": "stdout",
     "output_type": "stream",
     "text": [
      "ModeResult(mode=array([[0.20727211]]), count=array([[1]]))\n"
     ]
    }
   ],
   "source": [
    "mode_var = stats.mode(normalVar)\n",
    "print(mode_var)"
   ]
  },
  {
   "cell_type": "code",
   "execution_count": 226,
   "id": "245a0794",
   "metadata": {},
   "outputs": [
    {
     "name": "stdout",
     "output_type": "stream",
     "text": [
      "ModeResult(mode=array([[-1.93586005]]), count=array([[1]]))\n"
     ]
    }
   ],
   "source": [
    "mode_var2 = stats.mode(normalVar2)\n",
    "print(mode_var2)"
   ]
  },
  {
   "cell_type": "markdown",
   "id": "a44ccc32",
   "metadata": {},
   "source": [
    "Moda reprezentuje wartość, która występują najczęściej w zbiorze danych. W przypadku badanych zbiorów każda wartość jest losowo dobrana i występuje tylko raz. Mody obu zbiorów różnią się. W zależności od losowo wybranych danych każdego ze zbioru stanowiącego rozkład normalny wartość mody się zmienia i reprezentuje najmniejszą liczbę, która jednocześnie stanowi kwartyl zerowy (Q0), tym samym mody obu zbiorów zlokalizowane są na lewo w stosunku do wartości średniej i mediany. Czym większa wartość odchylenia standardowego, tym moda bardziej oddala się na lewo od średniej."
   ]
  },
  {
   "cell_type": "markdown",
   "id": "0c08f9f5",
   "metadata": {},
   "source": [
    "# Kwartyle"
   ]
  },
  {
   "cell_type": "code",
   "execution_count": 227,
   "id": "31fdda63",
   "metadata": {},
   "outputs": [
    {
     "name": "stdout",
     "output_type": "stream",
     "text": [
      "Q0: 0.20727210656566886\n",
      "Q1: 2.0\n",
      "Q2: 3.0109\n",
      "Q3: 4.0\n",
      "Q4: 5.0\n"
     ]
    }
   ],
   "source": [
    "q0 = np.quantile(normalVar, 0.0)\n",
    "q1 = np.round(np.quantile(normalVar, 0.25))\n",
    "q3 = np.round(np.quantile(normalVar, 0.75))\n",
    "q4 = np.round(np.quantile(normalVar, 1.0))\n",
    "print(f'Q0: {q0}')\n",
    "print(f'Q1: {q1}')\n",
    "print(f'Q2: {median_var}')\n",
    "print(f'Q3: {q3}')\n",
    "print(f'Q4: {q4}')"
   ]
  },
  {
   "cell_type": "code",
   "execution_count": 228,
   "id": "b9cf5c05",
   "metadata": {},
   "outputs": [
    {
     "name": "stdout",
     "output_type": "stream",
     "text": [
      "Q0: -1.9358600453237615\n",
      "Q1: 2.0\n",
      "Q2: 3.0068\n",
      "Q3: 4.0\n",
      "Q4: 7.0\n"
     ]
    }
   ],
   "source": [
    "Q0 = np.quantile(normalVar2, 0.0)\n",
    "Q1 = np.round(np.quantile(normalVar2, 0.25))\n",
    "Q3 = np.round(np.quantile(normalVar2, 0.75))\n",
    "Q4 = np.round(np.quantile(normalVar2, 1.0))\n",
    "print(f'Q0: {Q0}')\n",
    "print(f'Q1: {Q1}')\n",
    "print(f'Q2: {median_var2}')\n",
    "print(f'Q3: {Q3}')\n",
    "print(f'Q4: {Q4}')"
   ]
  },
  {
   "cell_type": "markdown",
   "id": "f2c18160",
   "metadata": {},
   "source": [
    "Kwartyle obu zbiorów różnią się w zależności od losowo dobranych danych. Kwartyl Q0 prezentuje najniższą wartość w danym zbiorze, a kwartyl Q4 najwyższą. Wartości bezwzględne Q0 i Q4 są tym większe im wartość odchylenia standardowego jest wyższa. Z uwagi na rozpiętość obu zbiorów wartości te są różne i zależne od losowo dobranych danych. Kwartyl drugi jest równy medianie danego zbioru, która oscyluje wokół średniej."
   ]
  },
  {
   "cell_type": "markdown",
   "id": "f2630101",
   "metadata": {},
   "source": [
    "# Rozstęp międzykwartylowy"
   ]
  },
  {
   "cell_type": "code",
   "execution_count": 229,
   "id": "721c665c",
   "metadata": {},
   "outputs": [
    {
     "name": "stdout",
     "output_type": "stream",
     "text": [
      "2.0\n"
     ]
    }
   ],
   "source": [
    "iqr = q3 - q1\n",
    "print(iqr)"
   ]
  },
  {
   "cell_type": "code",
   "execution_count": 230,
   "id": "5d82978e",
   "metadata": {},
   "outputs": [
    {
     "name": "stdout",
     "output_type": "stream",
     "text": [
      "2.0\n"
     ]
    }
   ],
   "source": [
    "iqr2 = Q3 - Q1\n",
    "print(iqr2)"
   ]
  },
  {
   "cell_type": "markdown",
   "id": "42bc0172",
   "metadata": {},
   "source": [
    "Kwartyle dzielą każdy rozkład, który jest uporządkowany od najniższego do najwyższego, na cztery równe części. Rozstęp międzykwartylowy jest to środkowa połowa rozkładu zmiennej znajdująca się pomiędzy kwartylem pierwszym i trzecim. Im wyższa wartość odchylenia standardowego, tym większy rozstęp międzykwartylowy."
   ]
  },
  {
   "cell_type": "code",
   "execution_count": 231,
   "id": "f4f7a250",
   "metadata": {},
   "outputs": [
    {
     "data": {
      "image/png": "[encoded data removed]",
      "text/plain": [
       "<Figure size 432x288 with 1 Axes>"
      ]
     },
     "metadata": {
      "needs_background": "light"
     },
     "output_type": "display_data"
    }
   ],
   "source": [
    "plt.boxplot(normalVar)\n",
    "plt.show()"
   ]
  },
  {
   "cell_type": "code",
   "execution_count": 232,
   "id": "24b2d621",
   "metadata": {},
   "outputs": [
    {
     "data": {
      "image/png": "[encoded data removed]",
      "text/plain": [
       "<Figure size 432x288 with 1 Axes>"
      ]
     },
     "metadata": {
      "needs_background": "light"
     },
     "output_type": "display_data"
    }
   ],
   "source": [
    "plt.boxplot(normalVar2)\n",
    "plt.show()"
   ]
  },
  {
   "cell_type": "markdown",
   "id": "a77c60bc",
   "metadata": {},
   "source": [
    "Górny i dolny bok pudełka widocznego na wykresach rozciąga się od wartości Q1 do Q3. Wewnątrz pudełka jest linia określająca wartość mediany, która nieznacznie różni się w obu badanych zbiorach i oscyluje wokół średniej. Linie rozciągające się od pudełek wskazują zmienność wartości poza dolnym i górnym kwartylem. Drugi zbiór jest liczniejszy, a wąsy przechodzą w punkty prezentujące wartości odstające, których jest więcej niż w przypadku zbioru pierwszego, co wynika z jego liczebności."
   ]
  },
  {
   "cell_type": "markdown",
   "id": "d23cc5db",
   "metadata": {},
   "source": [
    "# Wariancja"
   ]
  },
  {
   "cell_type": "code",
   "execution_count": 233,
   "id": "a266256d",
   "metadata": {},
   "outputs": [
    {
     "name": "stdout",
     "output_type": "stream",
     "text": [
      "value    1.197061\n",
      "dtype: float64\n"
     ]
    }
   ],
   "source": [
    "variance_var = np.var(normalVar, ddof=1)\n",
    "print(variance_var)"
   ]
  },
  {
   "cell_type": "code",
   "execution_count": 234,
   "id": "8209cb7f",
   "metadata": {},
   "outputs": [
    {
     "name": "stdout",
     "output_type": "stream",
     "text": [
      "value    1.007362\n",
      "dtype: float64\n"
     ]
    }
   ],
   "source": [
    "variance_var2 = np.var(normalVar2, ddof=1)\n",
    "print(variance_var2)"
   ]
  },
  {
   "cell_type": "markdown",
   "id": "1e7dc622",
   "metadata": {},
   "source": [
    "Wariancja mierzy dystans wartości w zbiorze od średniej, a tym samym od każdej innej wartości. Duża wariancja wskazuje, że liczby w zbiorze są relatywnie daleko od średniej i od siebie nawzajem. Z kolei mała wariancja wskazuje, że jest odwrotnie.  Wariancje obu badanych zbiorów są zbliżone wartościami, ponieważ mają przyjęte to samo odchylenie standardowe równe 1, które stanowi pierwiastek z wariancji."
   ]
  },
  {
   "cell_type": "markdown",
   "id": "29c53a0c",
   "metadata": {},
   "source": [
    "# Odchylenie standardowe"
   ]
  },
  {
   "cell_type": "code",
   "execution_count": 235,
   "id": "c24865d7",
   "metadata": {},
   "outputs": [
    {
     "name": "stdout",
     "output_type": "stream",
     "text": [
      "value    1.0\n",
      "dtype: float64\n"
     ]
    }
   ],
   "source": [
    "standard_deviation_var = np.round(np.std(normalVar, ddof=1))\n",
    "print(standard_deviation_var)"
   ]
  },
  {
   "cell_type": "code",
   "execution_count": 210,
   "id": "d90a9aea",
   "metadata": {},
   "outputs": [
    {
     "name": "stdout",
     "output_type": "stream",
     "text": [
      "value    1.0\n",
      "dtype: float64\n"
     ]
    }
   ],
   "source": [
    "standard_deviation_var2 = np.round(np.std(normalVar2, ddof=1))\n",
    "print(standard_deviation_var2)"
   ]
  },
  {
   "cell_type": "markdown",
   "id": "590de425",
   "metadata": {},
   "source": [
    "Wyliczone odchylenie standardowe dla obu zbiorów jest takie samo i równe przyjętemu do ich wygenerowania."
   ]
  },
  {
   "cell_type": "markdown",
   "id": "0acc73dc",
   "metadata": {},
   "source": [
    "# Asymetria rozkładu"
   ]
  },
  {
   "cell_type": "markdown",
   "id": "56a610d4",
   "metadata": {},
   "source": [
    "Wartość mediany każdego zbioru jest prawie równa średniej, natomiast moda znajduje się po ich lewej stronie (jest mniejsza od średniej i mediany), co czyni oba rozkłady lekko pozytywnie skośnymi."
   ]
  },
  {
   "cell_type": "markdown",
   "id": "2306fb6d",
   "metadata": {},
   "source": [
    "# Skalowanie zmiennej"
   ]
  },
  {
   "cell_type": "code",
   "execution_count": 236,
   "id": "433aac62",
   "metadata": {},
   "outputs": [
    {
     "data": {
      "image/png": "[encoded data removed]",
      "text/plain": [
       "<Figure size 432x288 with 1 Axes>"
      ]
     },
     "metadata": {
      "needs_background": "light"
     },
     "output_type": "display_data"
    },
    {
     "name": "stdout",
     "output_type": "stream",
     "text": [
      "Średnia: 3.552713678800501e-16\n",
      "Odchylenie standardowe: 1.005037815259212\n"
     ]
    }
   ],
   "source": [
    "scaler_standardized = StandardScaler()\n",
    "standardized_normalVar = scaler_standardized.fit_transform(normalVar)\n",
    "plt.hist(standardized_normalVar, bins=20)\n",
    "plt.axvline(x = standardized_normalVar.mean(), color='red', label = 'Średnia')\n",
    "plt.show()\n",
    "print(f'Średnia: {standardized_normalVar.mean()}')\n",
    "print(f'Odchylenie standardowe: {np.std(standardized_normalVar, ddof=1)}')"
   ]
  },
  {
   "cell_type": "code",
   "execution_count": 237,
   "id": "4da9f237",
   "metadata": {},
   "outputs": [
    {
     "data": {
      "image/png": "[encoded data removed]",
      "text/plain": [
       "<Figure size 432x288 with 1 Axes>"
      ]
     },
     "metadata": {
      "needs_background": "light"
     },
     "output_type": "display_data"
    },
    {
     "name": "stdout",
     "output_type": "stream",
     "text": [
      "Średnia: 1.8403056856186594e-16\n",
      "Odchylenie standardowe: 1.0000500037503124\n"
     ]
    }
   ],
   "source": [
    "scaler_standardized = StandardScaler()\n",
    "standardized_normalVar2 = scaler_standardized.fit_transform(normalVar2)\n",
    "plt.hist(standardized_normalVar2, bins=20)\n",
    "plt.axvline(x = standardized_normalVar2.mean(), color='red', label = 'Średnia')\n",
    "plt.show()\n",
    "print(f'Średnia: {standardized_normalVar2.mean()}')\n",
    "print(f'Odchylenie standardowe: {np.std(standardized_normalVar2, ddof=1)}')"
   ]
  },
  {
   "cell_type": "markdown",
   "id": "18798f97",
   "metadata": {},
   "source": [
    "Skalowanie wartości obu zbiorów wykonano techniką standaryzacji, w której wartości są wyśrodkowane i wyskalowane do średniej równej 0 oraz odchylenia standardowego równego 1."
   ]
  }
 ],
 "metadata": {
  "kernelspec": {
   "display_name": "Python 3 (ipykernel)",
   "language": "python",
   "name": "python3"
  },
  "language_info": {
   "codemirror_mode": {
    "name": "ipython",
    "version": 3
   },
   "file_extension": ".py",
   "mimetype": "text/x-python",
   "name": "python",
   "nbconvert_exporter": "python",
   "pygments_lexer": "ipython3",
   "version": "3.10.4"
  }
 },
 "nbformat": 4,
 "nbformat_minor": 5
}
